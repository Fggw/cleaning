{
 "cells": [
  {
   "cell_type": "code",
   "execution_count": 1,
   "metadata": {
    "collapsed": true
   },
   "outputs": [],
   "source": [
    "import pandas as pd\n",
    "import numpy as np"
   ]
  },
  {
   "cell_type": "code",
   "execution_count": 2,
   "metadata": {
    "collapsed": false
   },
   "outputs": [
    {
     "name": "stderr",
     "output_type": "stream",
     "text": [
      "/Library/Python/2.7/site-packages/pandas/io/parsers.py:1170: DtypeWarning: Columns (6,7,24,38) have mixed types. Specify dtype option on import or set low_memory=False.\n",
      "  data = self._reader.read(nrows)\n"
     ]
    }
   ],
   "source": [
    "businesses = pd.read_csv('../data/businesses.csv')\n",
    "inspections = pd.read_csv('../data/inspections.csv')\n",
    "sanitation = pd.read_csv('../data/sanitation.csv')\n",
    "crime = pd.read_csv('../data/crimes.csv')\n",
    "crime['date'] = pd.to_datetime(crime['date']).apply(lambda d : d.date())\n",
    "garbage = pd.read_csv('../data/garbage.csv')"
   ]
  },
  {
   "cell_type": "code",
   "execution_count": 3,
   "metadata": {
    "collapsed": true
   },
   "outputs": [],
   "source": [
    "def find_business_by_license(license):\n",
    "    \n",
    "    filtered = businesses[businesses['license_id'] == license]\n",
    "    \n",
    "    return filtered\n",
    "    "
   ]
  },
  {
   "cell_type": "code",
   "execution_count": 4,
   "metadata": {
    "collapsed": false
   },
   "outputs": [
    {
     "data": {
      "text/plain": [
       "(135092, 8)"
      ]
     },
     "execution_count": 4,
     "metadata": {},
     "output_type": "execute_result"
    }
   ],
   "source": [
    "inspection_subset = inspections.loc[:, ['inspection_id', 'inspection_date', \n",
    "                                  'facility_type', 'inspection_type',\n",
    "                                  'latitude', 'longitude', \"license_\", \"results\"]]\n",
    "inspection_subset.shape"
   ]
  },
  {
   "cell_type": "code",
   "execution_count": 5,
   "metadata": {
    "collapsed": false
   },
   "outputs": [
    {
     "data": {
      "text/html": [
       "<div style=\"max-height:1000px;max-width:1500px;overflow:auto;\">\n",
       "<table border=\"1\" class=\"dataframe\">\n",
       "  <thead>\n",
       "    <tr style=\"text-align: right;\">\n",
       "      <th></th>\n",
       "      <th>Unnamed: 0</th>\n",
       "      <th>account_number</th>\n",
       "      <th>address</th>\n",
       "      <th>application_created_date</th>\n",
       "      <th>application_requirements_complete</th>\n",
       "      <th>application_type</th>\n",
       "      <th>business_activity</th>\n",
       "      <th>business_activity_id</th>\n",
       "      <th>city</th>\n",
       "      <th>conditional_approval</th>\n",
       "      <th>...</th>\n",
       "      <th>longitude</th>\n",
       "      <th>payment_date</th>\n",
       "      <th>police_district</th>\n",
       "      <th>precinct</th>\n",
       "      <th>site_number</th>\n",
       "      <th>ssa</th>\n",
       "      <th>state</th>\n",
       "      <th>ward</th>\n",
       "      <th>ward_precinct</th>\n",
       "      <th>zip_code</th>\n",
       "    </tr>\n",
       "  </thead>\n",
       "  <tbody>\n",
       "    <tr>\n",
       "      <th>611423</th>\n",
       "      <td>611423</td>\n",
       "      <td>346577</td>\n",
       "      <td>2715 N MILWAUKEE AVE</td>\n",
       "      <td>2009-08-19T00:00:00.000</td>\n",
       "      <td>2009-08-20T00:00:00.000</td>\n",
       "      <td>ISSUE</td>\n",
       "      <td>Retail Sales of Perishable Foods</td>\n",
       "      <td>775</td>\n",
       "      <td>CHICAGO</td>\n",
       "      <td>N</td>\n",
       "      <td>...</td>\n",
       "      <td>-87.709689</td>\n",
       "      <td>2009-08-20T00:00:00.000</td>\n",
       "      <td>14</td>\n",
       "      <td>17</td>\n",
       "      <td>1</td>\n",
       "      <td>NaN</td>\n",
       "      <td>IL</td>\n",
       "      <td>35</td>\n",
       "      <td>35-17</td>\n",
       "      <td>60647</td>\n",
       "    </tr>\n",
       "  </tbody>\n",
       "</table>\n",
       "<p>1 rows × 39 columns</p>\n",
       "</div>"
      ],
      "text/plain": [
       "        Unnamed: 0  account_number               address  \\\n",
       "611423      611423          346577  2715 N MILWAUKEE AVE   \n",
       "\n",
       "       application_created_date application_requirements_complete  \\\n",
       "611423  2009-08-19T00:00:00.000           2009-08-20T00:00:00.000   \n",
       "\n",
       "       application_type                 business_activity  \\\n",
       "611423            ISSUE  Retail Sales of Perishable Foods   \n",
       "\n",
       "       business_activity_id     city conditional_approval    ...     \\\n",
       "611423                  775  CHICAGO                    N    ...      \n",
       "\n",
       "        longitude             payment_date police_district precinct  \\\n",
       "611423 -87.709689  2009-08-20T00:00:00.000              14       17   \n",
       "\n",
       "        site_number ssa state  ward ward_precinct  zip_code  \n",
       "611423            1 NaN    IL    35         35-17     60647  \n",
       "\n",
       "[1 rows x 39 columns]"
      ]
     },
     "execution_count": 5,
     "metadata": {},
     "output_type": "execute_result"
    }
   ],
   "source": [
    "find_business_by_license(1991029)"
   ]
  },
  {
   "cell_type": "code",
   "execution_count": 6,
   "metadata": {
    "collapsed": false
   },
   "outputs": [],
   "source": [
    "valid_result_inspections = pd.DataFrame(inspection_subset[~(~inspection_subset['results'].str.contains(\"Pass\")) \\\n",
    "                                             & (~inspection_subset['results'].str.contains('Fail'))])"
   ]
  },
  {
   "cell_type": "code",
   "execution_count": 7,
   "metadata": {
    "collapsed": false
   },
   "outputs": [
    {
     "data": {
      "text/plain": [
       "(92406, 8)"
      ]
     },
     "execution_count": 7,
     "metadata": {},
     "output_type": "execute_result"
    }
   ],
   "source": [
    "valid_result_inspections['inspection_date'] = pd.to_datetime(inspection_subset['inspection_date']).apply(lambda d : d.date())\n",
    "valid_result_inspections.shape"
   ]
  },
  {
   "cell_type": "code",
   "execution_count": 9,
   "metadata": {
    "collapsed": false
   },
   "outputs": [],
   "source": [
    "inspections_with_biz_info = pd.merge(valid_result_inspections, businesses, left_on='license_', right_on='license_id', how='left')"
   ]
  },
  {
   "cell_type": "code",
   "execution_count": 10,
   "metadata": {
    "collapsed": false
   },
   "outputs": [
    {
     "data": {
      "text/html": [
       "<div style=\"max-height:1000px;max-width:1500px;overflow:auto;\">\n",
       "<table border=\"1\" class=\"dataframe\">\n",
       "  <thead>\n",
       "    <tr style=\"text-align: right;\">\n",
       "      <th></th>\n",
       "      <th>inspection_id</th>\n",
       "      <th>inspection_date</th>\n",
       "      <th>facility_type</th>\n",
       "      <th>inspection_type</th>\n",
       "      <th>latitude_x</th>\n",
       "      <th>longitude_x</th>\n",
       "      <th>license_</th>\n",
       "      <th>results</th>\n",
       "      <th>Unnamed: 0</th>\n",
       "      <th>account_number</th>\n",
       "      <th>...</th>\n",
       "      <th>longitude_y</th>\n",
       "      <th>payment_date</th>\n",
       "      <th>police_district</th>\n",
       "      <th>precinct</th>\n",
       "      <th>site_number</th>\n",
       "      <th>ssa</th>\n",
       "      <th>state</th>\n",
       "      <th>ward</th>\n",
       "      <th>ward_precinct</th>\n",
       "      <th>zip_code</th>\n",
       "    </tr>\n",
       "  </thead>\n",
       "  <tbody>\n",
       "    <tr>\n",
       "      <th>0</th>\n",
       "      <td>1184245</td>\n",
       "      <td>2012-04-06</td>\n",
       "      <td>Restaurant</td>\n",
       "      <td>Canvass</td>\n",
       "      <td>41.886294</td>\n",
       "      <td>-87.642644</td>\n",
       "      <td>1842843</td>\n",
       "      <td>Pass</td>\n",
       "      <td>248061</td>\n",
       "      <td>320408</td>\n",
       "      <td>...</td>\n",
       "      <td>-87.642644</td>\n",
       "      <td>2007-08-17T00:00:00.000</td>\n",
       "      <td>12</td>\n",
       "      <td>18</td>\n",
       "      <td>1</td>\n",
       "      <td>NaN</td>\n",
       "      <td>IL</td>\n",
       "      <td>42</td>\n",
       "      <td>42-18</td>\n",
       "      <td>60661</td>\n",
       "    </tr>\n",
       "    <tr>\n",
       "      <th>1</th>\n",
       "      <td>478757</td>\n",
       "      <td>2010-12-09</td>\n",
       "      <td>Restaurant</td>\n",
       "      <td>Complaint</td>\n",
       "      <td>41.930605</td>\n",
       "      <td>-87.709689</td>\n",
       "      <td>1991029</td>\n",
       "      <td>Pass w/ Conditions</td>\n",
       "      <td>611423</td>\n",
       "      <td>346577</td>\n",
       "      <td>...</td>\n",
       "      <td>-87.709689</td>\n",
       "      <td>2009-08-20T00:00:00.000</td>\n",
       "      <td>14</td>\n",
       "      <td>17</td>\n",
       "      <td>1</td>\n",
       "      <td>NaN</td>\n",
       "      <td>IL</td>\n",
       "      <td>35</td>\n",
       "      <td>35-17</td>\n",
       "      <td>60647</td>\n",
       "    </tr>\n",
       "    <tr>\n",
       "      <th>2</th>\n",
       "      <td>1115054</td>\n",
       "      <td>2013-10-03</td>\n",
       "      <td>Restaurant</td>\n",
       "      <td>Canvass Re-Inspection</td>\n",
       "      <td>41.875314</td>\n",
       "      <td>-87.627473</td>\n",
       "      <td>1904806</td>\n",
       "      <td>Pass</td>\n",
       "      <td>762614</td>\n",
       "      <td>331323</td>\n",
       "      <td>...</td>\n",
       "      <td>-87.627473</td>\n",
       "      <td>2008-05-09T00:00:00.000</td>\n",
       "      <td>1</td>\n",
       "      <td>49</td>\n",
       "      <td>1</td>\n",
       "      <td>NaN</td>\n",
       "      <td>IL</td>\n",
       "      <td>4</td>\n",
       "      <td>4-49</td>\n",
       "      <td>60605</td>\n",
       "    </tr>\n",
       "    <tr>\n",
       "      <th>3</th>\n",
       "      <td>1575282</td>\n",
       "      <td>2015-09-09</td>\n",
       "      <td>Children's Services Facility</td>\n",
       "      <td>License</td>\n",
       "      <td>41.970113</td>\n",
       "      <td>-87.713443</td>\n",
       "      <td>2215517</td>\n",
       "      <td>Pass</td>\n",
       "      <td>194697</td>\n",
       "      <td>27889</td>\n",
       "      <td>...</td>\n",
       "      <td>-87.713443</td>\n",
       "      <td>NaN</td>\n",
       "      <td>17</td>\n",
       "      <td>22</td>\n",
       "      <td>1</td>\n",
       "      <td>60</td>\n",
       "      <td>IL</td>\n",
       "      <td>33</td>\n",
       "      <td>33-22</td>\n",
       "      <td>60625</td>\n",
       "    </tr>\n",
       "    <tr>\n",
       "      <th>4</th>\n",
       "      <td>417230</td>\n",
       "      <td>2010-10-14</td>\n",
       "      <td>Restaurant</td>\n",
       "      <td>Canvass</td>\n",
       "      <td>41.802134</td>\n",
       "      <td>-87.621203</td>\n",
       "      <td>1954887</td>\n",
       "      <td>Pass</td>\n",
       "      <td>491638</td>\n",
       "      <td>340956</td>\n",
       "      <td>...</td>\n",
       "      <td>-87.621203</td>\n",
       "      <td>2009-02-25T00:00:00.000</td>\n",
       "      <td>2</td>\n",
       "      <td>40</td>\n",
       "      <td>1</td>\n",
       "      <td>52</td>\n",
       "      <td>IL</td>\n",
       "      <td>3</td>\n",
       "      <td>3-40</td>\n",
       "      <td>60615</td>\n",
       "    </tr>\n",
       "  </tbody>\n",
       "</table>\n",
       "<p>5 rows × 47 columns</p>\n",
       "</div>"
      ],
      "text/plain": [
       "   inspection_id inspection_date                 facility_type  \\\n",
       "0        1184245      2012-04-06                    Restaurant   \n",
       "1         478757      2010-12-09                    Restaurant   \n",
       "2        1115054      2013-10-03                    Restaurant   \n",
       "3        1575282      2015-09-09  Children's Services Facility   \n",
       "4         417230      2010-10-14                    Restaurant   \n",
       "\n",
       "         inspection_type  latitude_x  longitude_x  license_  \\\n",
       "0                Canvass   41.886294   -87.642644   1842843   \n",
       "1              Complaint   41.930605   -87.709689   1991029   \n",
       "2  Canvass Re-Inspection   41.875314   -87.627473   1904806   \n",
       "3                License   41.970113   -87.713443   2215517   \n",
       "4                Canvass   41.802134   -87.621203   1954887   \n",
       "\n",
       "              results  Unnamed: 0  account_number   ...    longitude_y  \\\n",
       "0                Pass      248061          320408   ...     -87.642644   \n",
       "1  Pass w/ Conditions      611423          346577   ...     -87.709689   \n",
       "2                Pass      762614          331323   ...     -87.627473   \n",
       "3                Pass      194697           27889   ...     -87.713443   \n",
       "4                Pass      491638          340956   ...     -87.621203   \n",
       "\n",
       "              payment_date police_district precinct site_number ssa state  \\\n",
       "0  2007-08-17T00:00:00.000              12       18           1 NaN    IL   \n",
       "1  2009-08-20T00:00:00.000              14       17           1 NaN    IL   \n",
       "2  2008-05-09T00:00:00.000               1       49           1 NaN    IL   \n",
       "3                      NaN              17       22           1  60    IL   \n",
       "4  2009-02-25T00:00:00.000               2       40           1  52    IL   \n",
       "\n",
       "  ward ward_precinct zip_code  \n",
       "0   42         42-18    60661  \n",
       "1   35         35-17    60647  \n",
       "2    4          4-49    60605  \n",
       "3   33         33-22    60625  \n",
       "4    3          3-40    60615  \n",
       "\n",
       "[5 rows x 47 columns]"
      ]
     },
     "execution_count": 10,
     "metadata": {},
     "output_type": "execute_result"
    }
   ],
   "source": [
    "inspections_with_biz_info.head()"
   ]
  },
  {
   "cell_type": "code",
   "execution_count": 27,
   "metadata": {
    "collapsed": false
   },
   "outputs": [
    {
     "data": {
      "text/plain": [
       "2003-08-21    1516\n",
       "2003-10-16    1455\n",
       "2003-08-29    1439\n",
       "2003-09-23    1438\n",
       "2003-10-17    1437\n",
       "2003-09-12    1401\n",
       "2003-10-09    1379\n",
       "2003-07-19    1379\n",
       "2003-09-06    1376\n",
       "2003-08-05    1373\n",
       "2003-07-28    1369\n",
       "2003-08-08    1364\n",
       "2003-08-15    1358\n",
       "2003-08-01    1350\n",
       "2003-10-08    1348\n",
       "2003-09-11    1344\n",
       "2003-08-13    1343\n",
       "2003-09-09    1332\n",
       "2003-08-25    1330\n",
       "2003-08-14    1325\n",
       "2003-08-06    1323\n",
       "2003-07-25    1323\n",
       "2003-08-20    1323\n",
       "2003-08-16    1323\n",
       "2003-09-15    1322\n",
       "2003-07-29    1318\n",
       "2003-09-13    1312\n",
       "2003-08-07    1311\n",
       "2003-09-19    1306\n",
       "2003-07-26    1306\n",
       "              ... \n",
       "2013-12-29       1\n",
       "2008-02-21       1\n",
       "2004-08-25       1\n",
       "2007-07-27       1\n",
       "2006-03-02       1\n",
       "2004-07-27       1\n",
       "2009-02-28       1\n",
       "2012-04-03       1\n",
       "2003-11-19       1\n",
       "2007-04-16       1\n",
       "2009-01-28       1\n",
       "2007-02-01       1\n",
       "2004-10-30       1\n",
       "2009-06-16       1\n",
       "2012-11-29       1\n",
       "2007-11-18       1\n",
       "2011-06-29       1\n",
       "2006-03-25       1\n",
       "2012-09-22       1\n",
       "2014-01-07       1\n",
       "2007-03-03       1\n",
       "2011-03-14       1\n",
       "2007-08-12       1\n",
       "2006-05-05       1\n",
       "2010-07-26       1\n",
       "2005-06-06       1\n",
       "2006-05-30       1\n",
       "2007-08-21       1\n",
       "2004-09-18       1\n",
       "2013-05-08       1\n",
       "dtype: int64"
      ]
     },
     "execution_count": 27,
     "metadata": {},
     "output_type": "execute_result"
    }
   ],
   "source": [
    "d = crime['date'].value_counts()\n",
    "d"
   ]
  },
  {
   "cell_type": "code",
   "execution_count": 28,
   "metadata": {
    "collapsed": false
   },
   "outputs": [],
   "source": [
    "def get_nearby_crimes(inspection_row):\n",
    "    lat = inspection_row['latitude_x']\n",
    "    lon = inspection_row['longitude_x']\n",
    "    \n",
    "    lat_range = (crime['latitude'] - lat < 0.0003)\n",
    "    lon_range = (crime['longitude'] - lon < 0.0003)\n",
    "    date_match = crime['date'] == inspection_row['inspection_date']\n",
    "    return len(crime[date_match & lat_range & lon_range])\n"
   ]
  },
  {
   "cell_type": "code",
   "execution_count": null,
   "metadata": {
    "collapsed": false
   },
   "outputs": [],
   "source": [
    "crime_count = inspections_with_biz_info.apply(get_nearby_crimes, axis=1)"
   ]
  }
 ],
 "metadata": {
  "kernelspec": {
   "display_name": "Python 2",
   "language": "python",
   "name": "python2"
  },
  "language_info": {
   "codemirror_mode": {
    "name": "ipython",
    "version": 2
   },
   "file_extension": ".py",
   "mimetype": "text/x-python",
   "name": "python",
   "nbconvert_exporter": "python",
   "pygments_lexer": "ipython2",
   "version": "2.7.11"
  }
 },
 "nbformat": 4,
 "nbformat_minor": 0
}
